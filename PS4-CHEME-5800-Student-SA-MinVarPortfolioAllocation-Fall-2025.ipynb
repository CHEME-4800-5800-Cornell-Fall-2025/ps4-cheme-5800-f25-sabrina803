{
 "cells": [
  {
   "cell_type": "markdown",
   "id": "687681ee",
   "metadata": {
    "vscode": {
     "languageId": "julia"
    }
   },
   "source": [
    "# PS4: Simulated Annealing for Function Optimization\n",
    "In this activity, you will implement the Simulated Annealing algorithm to solve a classic problem in quantitative finance: the minimum variance portfolio allocation problem.\n",
    "\n",
    "> __Learning Objectives:__\n",
    "> \n",
    "> After completing this activity, students will be able to: \n",
    "> * **Formulate constrained portfolio optimization problems:** We develop the minimum variance portfolio allocation problem as a constrained quadratic programming problem that balances portfolio risk (variance) against target return requirements while ensuring non-negative weights that sum to one.\n",
    "> * **Implement simulated annealing with penalty methods:** We use the simulated annealing algorithm with barrier and penalty terms to handle both inequality constraints (non-negativity) and equality constraints (target return and sum-to-one) in the augmented objective function.\n",
    "> * **Evaluate optimization performance through comparison:** We train the simulated annealing model on S&P 500 historical data and compare the resulting portfolio allocations and risk metrics against solutions from traditional quadratic programming methods to assess convergence and solution quality.\n",
    "\n",
    "So what do we need to do?\n",
    "\n",
    "> __To Do:__\n",
    ">\n",
    "> In this problem set you will need to implement the Simulated Annealing algorithm in the `src/Compute.jl` file in the `solve` function. You will also need to tune the hyper-parameters and your implementation of simulated annealing algorithm. There is nothing to do in `Task 1`, as that is just data gathering and processing. You will need to implement the simulated annealing algorithm in `Task 2` and tune your implementation in `Task 3`.\n",
    "\n",
    "This is a fun application of the Simulated Annealing algorithm to a real-world problem in finance. So, let's get started!\n",
    "\n",
    "___"
   ]
  },
  {
   "cell_type": "markdown",
   "id": "ccff107c",
   "metadata": {},
   "source": [
    "## Background: Minimum Variance Portfolio Allocation Problem\n",
    "The goal of minimum variance portfolio allocation is to find the optimal weights $\\mathbf{w}$ that minimize the portfolio risk for a given level of expected return, or equivalently, maximize the expected return for a given level of risk. This is typically done by solving a __constrained quadratic programming__ problem. \n",
    "\n",
    "### Portfolio Reward\n",
    "The reward of a portfolio is measured by its expected growth (return), which is the weighted average of the expected growth rates (returns) of the individual assets in the portfolio. \n",
    "\n",
    "Suppose we have a portfolio $\\mathcal{P}$ consisting of $M$ assets. Let $w_i\\in\\mathbb{R}_{\\geq 0}$ be the weight of asset $i$ in the portfolio (i.e., the dollar fraction of the total portfolio value invested in asset $i$), and let $\\mathbb{E}[g_i]$ be the expected growth rate (return) of asset $i$. Then, the expected growth rate (return) of the portfolio, denoted as $\\mathbb{E}[g_{\\mathcal{P}}]$, is given by:\n",
    "$$\n",
    "\\mathbb{E}[g_{\\mathcal{P}}] = \\sum_{i=1}^{M} w_i \\mathbb{E}[g_i]\\quad\\Longrightarrow\\;\\mathbf{w}^{\\top}\\mathbb{E}[\\mathbf{g}]\n",
    "$$\n",
    "where $M$ is the total number of assets in the portfolio, i.e., $|\\mathcal{P}| = M$, the weight vector is $\\mathbf{w}^{\\top} = [w_1, w_2, \\dots, w_M]$, the sum of weights is one, and $\\mathbb{E}[\\mathbf{g}] = [\\mathbb{E}[g_1], \\mathbb{E}[g_2], \\dots, \\mathbb{E}[g_M]]^{\\top}$ is the vector of expected growth rates (returns) of the individual assets.\n",
    "\n",
    "### Portfolio Risk\n",
    "The risk of a portfolio is (typically) measured by its variance (or standard deviation) of growth rates (returns), which takes into account the variances of the individual assets as well as the covariances between them. The portfolio variance written in terms of growth rates is given by:\n",
    "$$\n",
    "\\text{Var}(g_{\\mathcal{P}}) = \\sum_{i=1}^{M} \\sum_{j=1}^{M} w_i w_j \\text{Cov}(g_i, g_j)\\quad\\Longrightarrow\\;\\mathbf{w}^{\\top}\\mathbf{\\Sigma}_{g}\\mathbf{w}\n",
    "$$\n",
    "where $\\text{Cov}(g_i, g_j)$ is the covariance between the growth rates of assets $i$ and $j$, and $\\mathbf{\\Sigma}_{g}$ is the covariance matrix of asset growth rates, defined as:\n",
    "$$\n",
    "\\mathbf{\\Sigma}_{g} =\n",
    "\\begin{bmatrix}\n",
    "\\text{Var}(g_1) & \\text{Cov}(g_1, g_2) & \\cdots & \\text{Cov}(g_1, g_M) \\\\\n",
    "\\text{Cov}(g_2, g_1) & \\text{Var}(g_2) & \\cdots & \\text{Cov}(g_2, g_M) \\\\\n",
    "\\vdots & \\vdots & \\ddots & \\vdots \\\\\n",
    "\\text{Cov}(g_M, g_1) & \\text{Cov}(g_M, g_2) & \\cdots & \\text{Var}(g_M)\n",
    "\\end{bmatrix}\n",
    "$$\n",
    "\n",
    "### Optimization Problem Formulation\n",
    "Let's consider the case when we have a portfolio $\\mathcal{P}$ consisting of $M$ __risky assets__, i.e., only equity, ETFs (or potentially derivatives) but no fixed income assets. In this case, we can formulate the optimal weights optimization problem (written in terms of growth rate) as:\n",
    "\n",
    "$$\n",
    "\\boxed{\n",
    "\\begin{align*}\n",
    "\\text{minimize}~\\text{Var}(g_{\\mathcal{P}}) &= \\sum_{i\\in\\mathcal{P}}\\sum_{j\\in\\mathcal{P}}w_{i}w_{j}\\underbrace{\\text{Cov}\\left(g_{i},g_{j}\\right)}_{= \\sigma_{i}\\sigma_{j}\\rho_{ij}}\\quad{\\Longleftrightarrow\\mathbf{w}^\\top \\mathbf{\\Sigma}_{g} \\mathbf{w}} \\\\\n",
    "\\text{subject to}~\\mathbb{E}(g_{\\mathcal{P}})& =  \\sum_{i\\in\\mathcal{P}}w_{i}\\;\\mathbb{E}(g_{i})= R^{*}\\quad\\Longleftrightarrow\\mathbf{w}^\\top \\mathbb{E}(\\mathbf{g}) = R^{*} \\\\\n",
    "\\sum_{i\\in\\mathcal{P}}w_{i} & =  1 \\\\\n",
    "w_{i} & \\geq  0\\quad\\forall{i}\\in\\mathcal{P}\n",
    "\\end{align*}}\n",
    "$$\n",
    "The term $R^{*}$ is the target annualized growth rate (return) for portfolio $\\mathcal{P}$ specified by the investor. The $w_{i}\\geq{0}~\\forall{i}\\in\\mathcal{P}$ and the summation-to-unity constraints forbid short selling (borrowing). If short selling (borrowing) is allowed, these constraints can be relaxed.\n",
    "\n",
    "This is a __constrained quadratic programming__ problem, which can be solved using various optimization techniques, including __Simulated Annealing__.\n",
    "\n",
    "___"
   ]
  },
  {
   "cell_type": "markdown",
   "id": "3d3e259b",
   "metadata": {},
   "source": [
    "## Setup, Data, and Prerequisites\n",
    "First, we set up the computational environment by including the `Include.jl` file and loading any needed resources.\n",
    "\n",
    "> The [`include(...)` command](https://docs.julialang.org/en/v1/base/base/#include) evaluates the contents of the input source file, `Include.jl`, in the notebook's global scope. The `Include.jl` file sets paths, loads required external packages, etc. For additional information on functions and types used in this material, see the [Julia programming language documentation](https://docs.julialang.org/en/v1/). \n",
    "\n",
    "Let's set up our code environment:"
   ]
  },
  {
   "cell_type": "code",
   "execution_count": 1,
   "id": "c77623cb",
   "metadata": {},
   "outputs": [
    {
     "name": "stderr",
     "output_type": "stream",
     "text": [
      "\u001b[32m\u001b[1m    Updating\u001b[22m\u001b[39m git-repo `https://github.com/varnerlab/VLDataScienceMachineLearningPackage.jl.git`\n",
      "\u001b[32m\u001b[1m   Resolving\u001b[22m\u001b[39m package versions...\n"
     ]
    },
    {
     "ename": "LoadError",
     "evalue": "Unsatisfiable requirements detected for package \u001b[38;5;3mMadNLP [2621e9c9]\u001b[39m:\n \u001b[38;5;3mMadNLP [2621e9c9]\u001b[39m log:\n ├─possible versions are: \u001b[38;5;3m0.1.0 - 0.8.12\u001b[39m or uninstalled\n ├─restricted to versions \u001b[38;5;3m0.8.12 - 0.8\u001b[39m by \u001b[38;5;12mVLDataScienceMachineLearningPackage [24b76065]\u001b[39m, leaving only versions: \u001b[38;5;3m0.8.12\u001b[39m\n │ └─\u001b[38;5;12mVLDataScienceMachineLearningPackage [24b76065]\u001b[39m log:\n │   ├─possible versions are: \u001b[38;5;12m0.1.0\u001b[39m or uninstalled\n │   └─\u001b[38;5;12mVLDataScienceMachineLearningPackage [24b76065]\u001b[39m is fixed to version \u001b[38;5;12m0.1.0\u001b[39m\n └─restricted to versions \u001b[38;5;3m0.7\u001b[39m by \u001b[38;5;4mVLQuantitativeFinancePackage [4119e0bf]\u001b[39m — no versions left\n   └─\u001b[38;5;4mVLQuantitativeFinancePackage [4119e0bf]\u001b[39m log:\n     ├─possible versions are: \u001b[38;5;4m1.0.0\u001b[39m or uninstalled\n     └─\u001b[38;5;4mVLQuantitativeFinancePackage [4119e0bf]\u001b[39m is fixed to version \u001b[38;5;4m1.0.0-DEV\u001b[39m",
     "output_type": "error",
     "traceback": [
      "Unsatisfiable requirements detected for package \u001b[38;5;3mMadNLP [2621e9c9]\u001b[39m:\n \u001b[38;5;3mMadNLP [2621e9c9]\u001b[39m log:\n ├─possible versions are: \u001b[38;5;3m0.1.0 - 0.8.12\u001b[39m or uninstalled\n ├─restricted to versions \u001b[38;5;3m0.8.12 - 0.8\u001b[39m by \u001b[38;5;12mVLDataScienceMachineLearningPackage [24b76065]\u001b[39m, leaving only versions: \u001b[38;5;3m0.8.12\u001b[39m\n │ └─\u001b[38;5;12mVLDataScienceMachineLearningPackage [24b76065]\u001b[39m log:\n │   ├─possible versions are: \u001b[38;5;12m0.1.0\u001b[39m or uninstalled\n │   └─\u001b[38;5;12mVLDataScienceMachineLearningPackage [24b76065]\u001b[39m is fixed to version \u001b[38;5;12m0.1.0\u001b[39m\n └─restricted to versions \u001b[38;5;3m0.7\u001b[39m by \u001b[38;5;4mVLQuantitativeFinancePackage [4119e0bf]\u001b[39m — no versions left\n   └─\u001b[38;5;4mVLQuantitativeFinancePackage [4119e0bf]\u001b[39m log:\n     ├─possible versions are: \u001b[38;5;4m1.0.0\u001b[39m or uninstalled\n     └─\u001b[38;5;4mVLQuantitativeFinancePackage [4119e0bf]\u001b[39m is fixed to version \u001b[38;5;4m1.0.0-DEV\u001b[39m",
      "",
      "Stacktrace:",
      "  [1] \u001b[0m\u001b[1mcheck_constraints\u001b[22m\u001b[0m\u001b[1m(\u001b[22m\u001b[90mgraph\u001b[39m::\u001b[0mPkg.Resolve.Graph\u001b[0m\u001b[1m)\u001b[22m",
      "\u001b[90m    @\u001b[39m \u001b[35mPkg.Resolve\u001b[39m \u001b[90m~/.julia/juliaup/julia-1.12.1+0.aarch64.apple.darwin14/share/julia/stdlib/v1.12/Pkg/src/Resolve/\u001b[39m\u001b[90m\u001b[4mgraphtype.jl:1046\u001b[24m\u001b[39m",
      "  [2] \u001b[0m\u001b[1mPkg.Resolve.Graph\u001b[22m\u001b[0m\u001b[1m(\u001b[22m\u001b[90mcompat\u001b[39m::\u001b[0mDict\u001b[90m{Base.UUID, Dict{VersionNumber, Dict{Base.UUID, Pkg.Versions.VersionSpec}}}\u001b[39m, \u001b[90mcompat_weak\u001b[39m::\u001b[0mDict\u001b[90m{Base.UUID, Dict{VersionNumber, Set{Base.UUID}}}\u001b[39m, \u001b[90muuid_to_name\u001b[39m::\u001b[0mDict\u001b[90m{Base.UUID, String}\u001b[39m, \u001b[90mreqs\u001b[39m::\u001b[0mDict\u001b[90m{Base.UUID, Pkg.Versions.VersionSpec}\u001b[39m, \u001b[90mfixed\u001b[39m::\u001b[0mDict\u001b[90m{Base.UUID, Pkg.Resolve.Fixed}\u001b[39m, \u001b[90mverbose\u001b[39m::\u001b[0mBool, \u001b[90mjulia_version\u001b[39m::\u001b[0mVersionNumber\u001b[0m\u001b[1m)\u001b[22m",
      "\u001b[90m    @\u001b[39m \u001b[35mPkg.Resolve\u001b[39m \u001b[90m~/.julia/juliaup/julia-1.12.1+0.aarch64.apple.darwin14/share/julia/stdlib/v1.12/Pkg/src/Resolve/\u001b[39m\u001b[90m\u001b[4mgraphtype.jl:350\u001b[24m\u001b[39m",
      "  [3] \u001b[0m\u001b[1mdeps_graph\u001b[22m\u001b[0m\u001b[1m(\u001b[22m\u001b[90menv\u001b[39m::\u001b[0mPkg.Types.EnvCache, \u001b[90mregistries\u001b[39m::\u001b[0mVector\u001b[90m{Pkg.Registry.RegistryInstance}\u001b[39m, \u001b[90muuid_to_name\u001b[39m::\u001b[0mDict\u001b[90m{Base.UUID, String}\u001b[39m, \u001b[90mreqs\u001b[39m::\u001b[0mDict\u001b[90m{Base.UUID, Pkg.Versions.VersionSpec}\u001b[39m, \u001b[90mfixed\u001b[39m::\u001b[0mDict\u001b[90m{Base.UUID, Pkg.Resolve.Fixed}\u001b[39m, \u001b[90mjulia_version\u001b[39m::\u001b[0mVersionNumber, \u001b[90minstalled_only\u001b[39m::\u001b[0mBool\u001b[0m\u001b[1m)\u001b[22m",
      "\u001b[90m    @\u001b[39m \u001b[35mPkg.Operations\u001b[39m \u001b[90m~/.julia/juliaup/julia-1.12.1+0.aarch64.apple.darwin14/share/julia/stdlib/v1.12/Pkg/src/\u001b[39m\u001b[90m\u001b[4mOperations.jl:705\u001b[24m\u001b[39m",
      "  [4] \u001b[0m\u001b[1mresolve_versions!\u001b[22m\u001b[0m\u001b[1m(\u001b[22m\u001b[90menv\u001b[39m::\u001b[0mPkg.Types.EnvCache, \u001b[90mregistries\u001b[39m::\u001b[0mVector\u001b[90m{Pkg.Registry.RegistryInstance}\u001b[39m, \u001b[90mpkgs\u001b[39m::\u001b[0mVector\u001b[90m{Pkg.Types.PackageSpec}\u001b[39m, \u001b[90mjulia_version\u001b[39m::\u001b[0mVersionNumber, \u001b[90minstalled_only\u001b[39m::\u001b[0mBool\u001b[0m\u001b[1m)\u001b[22m",
      "\u001b[90m    @\u001b[39m \u001b[35mPkg.Operations\u001b[39m \u001b[90m~/.julia/juliaup/julia-1.12.1+0.aarch64.apple.darwin14/share/julia/stdlib/v1.12/Pkg/src/\u001b[39m\u001b[90m\u001b[4mOperations.jl:525\u001b[24m\u001b[39m",
      "  [5] \u001b[0m\u001b[1mtargeted_resolve\u001b[22m",
      "\u001b[90m    @\u001b[39m \u001b[90m~/.julia/juliaup/julia-1.12.1+0.aarch64.apple.darwin14/share/julia/stdlib/v1.12/Pkg/src/\u001b[39m\u001b[90m\u001b[4mOperations.jl:1669\u001b[24m\u001b[39m\u001b[90m [inlined]\u001b[39m",
      "  [6] \u001b[0m\u001b[1mtiered_resolve\u001b[22m\u001b[0m\u001b[1m(\u001b[22m\u001b[90menv\u001b[39m::\u001b[0mPkg.Types.EnvCache, \u001b[90mregistries\u001b[39m::\u001b[0mVector\u001b[90m{Pkg.Registry.RegistryInstance}\u001b[39m, \u001b[90mpkgs\u001b[39m::\u001b[0mVector\u001b[90m{Pkg.Types.PackageSpec}\u001b[39m, \u001b[90mjulia_version\u001b[39m::\u001b[0mVersionNumber, \u001b[90mtry_all_installed\u001b[39m::\u001b[0mBool\u001b[0m\u001b[1m)\u001b[22m",
      "\u001b[90m    @\u001b[39m \u001b[35mPkg.Operations\u001b[39m \u001b[90m~/.julia/juliaup/julia-1.12.1+0.aarch64.apple.darwin14/share/julia/stdlib/v1.12/Pkg/src/\u001b[39m\u001b[90m\u001b[4mOperations.jl:1658\u001b[24m\u001b[39m",
      "  [7] \u001b[0m\u001b[1m_resolve\u001b[22m\u001b[0m\u001b[1m(\u001b[22m\u001b[90mio\u001b[39m::\u001b[0mIOContext\u001b[90m{IO}\u001b[39m, \u001b[90menv\u001b[39m::\u001b[0mPkg.Types.EnvCache, \u001b[90mregistries\u001b[39m::\u001b[0mVector\u001b[90m{Pkg.Registry.RegistryInstance}\u001b[39m, \u001b[90mpkgs\u001b[39m::\u001b[0mVector\u001b[90m{Pkg.Types.PackageSpec}\u001b[39m, \u001b[90mpreserve\u001b[39m::\u001b[0mPkg.Types.PreserveLevel, \u001b[90mjulia_version\u001b[39m::\u001b[0mVersionNumber\u001b[0m\u001b[1m)\u001b[22m",
      "\u001b[90m    @\u001b[39m \u001b[35mPkg.Operations\u001b[39m \u001b[90m~/.julia/juliaup/julia-1.12.1+0.aarch64.apple.darwin14/share/julia/stdlib/v1.12/Pkg/src/\u001b[39m\u001b[90m\u001b[4mOperations.jl:1679\u001b[24m\u001b[39m",
      "  [8] \u001b[0m\u001b[1madd\u001b[22m\u001b[0m\u001b[1m(\u001b[22m\u001b[90mctx\u001b[39m::\u001b[0mPkg.Types.Context, \u001b[90mpkgs\u001b[39m::\u001b[0mVector\u001b[90m{Pkg.Types.PackageSpec}\u001b[39m, \u001b[90mnew_git\u001b[39m::\u001b[0mSet\u001b[90m{Base.UUID}\u001b[39m; \u001b[90mallow_autoprecomp\u001b[39m::\u001b[0mBool, \u001b[90mpreserve\u001b[39m::\u001b[0mPkg.Types.PreserveLevel, \u001b[90mplatform\u001b[39m::\u001b[0mBase.BinaryPlatforms.Platform, \u001b[90mtarget\u001b[39m::\u001b[0mSymbol\u001b[0m\u001b[1m)\u001b[22m",
      "\u001b[90m    @\u001b[39m \u001b[35mPkg.Operations\u001b[39m \u001b[90m~/.julia/juliaup/julia-1.12.1+0.aarch64.apple.darwin14/share/julia/stdlib/v1.12/Pkg/src/\u001b[39m\u001b[90m\u001b[4mOperations.jl:1712\u001b[24m\u001b[39m",
      "  [9] \u001b[0m\u001b[1madd\u001b[22m",
      "\u001b[90m    @\u001b[39m \u001b[90m~/.julia/juliaup/julia-1.12.1+0.aarch64.apple.darwin14/share/julia/stdlib/v1.12/Pkg/src/\u001b[39m\u001b[90m\u001b[4mOperations.jl:1685\u001b[24m\u001b[39m\u001b[90m [inlined]\u001b[39m",
      " [10] \u001b[0m\u001b[1madd\u001b[22m\u001b[0m\u001b[1m(\u001b[22m\u001b[90mctx\u001b[39m::\u001b[0mPkg.Types.Context, \u001b[90mpkgs\u001b[39m::\u001b[0mVector\u001b[90m{Pkg.Types.PackageSpec}\u001b[39m; \u001b[90mpreserve\u001b[39m::\u001b[0mPkg.Types.PreserveLevel, \u001b[90mplatform\u001b[39m::\u001b[0mBase.BinaryPlatforms.Platform, \u001b[90mtarget\u001b[39m::\u001b[0mSymbol, \u001b[90mallow_autoprecomp\u001b[39m::\u001b[0mBool, \u001b[90mkwargs\u001b[39m::\u001b[0m@Kwargs\u001b[90m{io::IOContext{IO}}\u001b[39m\u001b[0m\u001b[1m)\u001b[22m",
      "\u001b[90m    @\u001b[39m \u001b[35mPkg.API\u001b[39m \u001b[90m~/.julia/juliaup/julia-1.12.1+0.aarch64.apple.darwin14/share/julia/stdlib/v1.12/Pkg/src/\u001b[39m\u001b[90m\u001b[4mAPI.jl:313\u001b[24m\u001b[39m",
      " [11] \u001b[0m\u001b[1madd\u001b[22m\u001b[0m\u001b[1m(\u001b[22m\u001b[90mpkgs\u001b[39m::\u001b[0mVector\u001b[90m{Pkg.Types.PackageSpec}\u001b[39m; \u001b[90mio\u001b[39m::\u001b[0mIOContext\u001b[90m{IO}\u001b[39m, \u001b[90mkwargs\u001b[39m::\u001b[0m@Kwargs\u001b[90m{}\u001b[39m\u001b[0m\u001b[1m)\u001b[22m",
      "\u001b[90m    @\u001b[39m \u001b[35mPkg.API\u001b[39m \u001b[90m~/.julia/juliaup/julia-1.12.1+0.aarch64.apple.darwin14/share/julia/stdlib/v1.12/Pkg/src/\u001b[39m\u001b[90m\u001b[4mAPI.jl:164\u001b[24m\u001b[39m",
      " [12] \u001b[0m\u001b[1madd\u001b[22m\u001b[0m\u001b[1m(\u001b[22m\u001b[90mpkgs\u001b[39m::\u001b[0mVector\u001b[90m{Pkg.Types.PackageSpec}\u001b[39m\u001b[0m\u001b[1m)\u001b[22m",
      "\u001b[90m    @\u001b[39m \u001b[35mPkg.API\u001b[39m \u001b[90m~/.julia/juliaup/julia-1.12.1+0.aarch64.apple.darwin14/share/julia/stdlib/v1.12/Pkg/src/\u001b[39m\u001b[90m\u001b[4mAPI.jl:153\u001b[24m\u001b[39m",
      " [13] \u001b[0m\u001b[1madd\u001b[22m\u001b[0m\u001b[1m(\u001b[22m; \u001b[90mname\u001b[39m::\u001b[0mNothing, \u001b[90muuid\u001b[39m::\u001b[0mNothing, \u001b[90mversion\u001b[39m::\u001b[0mNothing, \u001b[90murl\u001b[39m::\u001b[0mNothing, \u001b[90mrev\u001b[39m::\u001b[0mNothing, \u001b[90mpath\u001b[39m::\u001b[0mString, \u001b[90mmode\u001b[39m::\u001b[0mPkg.Types.PackageMode, \u001b[90msubdir\u001b[39m::\u001b[0mNothing, \u001b[90mkwargs\u001b[39m::\u001b[0m@Kwargs\u001b[90m{}\u001b[39m\u001b[0m\u001b[1m)\u001b[22m",
      "\u001b[90m    @\u001b[39m \u001b[35mPkg.API\u001b[39m \u001b[90m./\u001b[39m\u001b[90m\u001b[4marray.jl:0\u001b[24m\u001b[39m",
      " [14] top-level scope",
      "\u001b[90m    @\u001b[39m \u001b[90m\u001b[4mIn[1]:2\u001b[24m\u001b[39m",
      " [15] \u001b[0m\u001b[1meval\u001b[22m\u001b[0m\u001b[1m(\u001b[22m\u001b[90mm\u001b[39m::\u001b[0mModule, \u001b[90me\u001b[39m::\u001b[0mAny\u001b[0m\u001b[1m)\u001b[22m",
      "\u001b[90m    @\u001b[39m \u001b[90mCore\u001b[39m \u001b[90m./\u001b[39m\u001b[90m\u001b[4mboot.jl:489\u001b[24m\u001b[39m"
     ]
    }
   ],
   "source": [
    "using Pkg\n",
    "Pkg.add(path=\"https://github.com/varnerlab/VLDataScienceMachineLearningPackage.jl.git\");"
   ]
  },
  {
   "cell_type": "code",
   "execution_count": null,
   "id": "dd32d5c9",
   "metadata": {},
   "outputs": [
    {
     "ename": "LoadError",
     "evalue": "LoadError: ArgumentError: Package VLDataScienceMachineLearningPackage not found in current path.\n- Run `import Pkg; Pkg.add(\"VLDataScienceMachineLearningPackage\")` to install the VLDataScienceMachineLearningPackage package.\nin expression starting at /Users/wangyiyun/Documents/ps4-cheme-5800-f25-sabrina803/Include-student.jl:14",
     "output_type": "error",
     "traceback": [
      "LoadError: ArgumentError: Package VLDataScienceMachineLearningPackage not found in current path.\n- Run `import Pkg; Pkg.add(\"VLDataScienceMachineLearningPackage\")` to install the VLDataScienceMachineLearningPackage package.\nin expression starting at /Users/wangyiyun/Documents/ps4-cheme-5800-f25-sabrina803/Include-student.jl:14",
      "",
      "Stacktrace:",
      " [1] \u001b[0m\u001b[1mmacro expansion\u001b[22m",
      "\u001b[90m   @\u001b[39m \u001b[90m./\u001b[39m\u001b[90m\u001b[4mloading.jl:2375\u001b[24m\u001b[39m\u001b[90m [inlined]\u001b[39m",
      " [2] \u001b[0m\u001b[1mmacro expansion\u001b[22m",
      "\u001b[90m   @\u001b[39m \u001b[90m./\u001b[39m\u001b[90m\u001b[4mlock.jl:376\u001b[24m\u001b[39m\u001b[90m [inlined]\u001b[39m",
      " [3] \u001b[0m\u001b[1m__require\u001b[22m\u001b[0m\u001b[1m(\u001b[22m\u001b[90minto\u001b[39m::\u001b[0mModule, \u001b[90mmod\u001b[39m::\u001b[0mSymbol\u001b[0m\u001b[1m)\u001b[22m",
      "\u001b[90m   @\u001b[39m \u001b[90mBase\u001b[39m \u001b[90m./\u001b[39m\u001b[90m\u001b[4mloading.jl:2358\u001b[24m\u001b[39m",
      " [4] \u001b[0m\u001b[1mrequire\u001b[22m\u001b[0m\u001b[1m(\u001b[22m\u001b[90minto\u001b[39m::\u001b[0mModule, \u001b[90mmod\u001b[39m::\u001b[0mSymbol\u001b[0m\u001b[1m)\u001b[22m",
      "\u001b[90m   @\u001b[39m \u001b[90mBase\u001b[39m \u001b[90m./\u001b[39m\u001b[90m\u001b[4mloading.jl:2334\u001b[24m\u001b[39m",
      " [5] \u001b[0m\u001b[1minclude\u001b[22m\u001b[0m\u001b[1m(\u001b[22m\u001b[90mmapexpr\u001b[39m::\u001b[0mFunction, \u001b[90mmod\u001b[39m::\u001b[0mModule, \u001b[90m_path\u001b[39m::\u001b[0mString\u001b[0m\u001b[1m)\u001b[22m",
      "\u001b[90m   @\u001b[39m \u001b[90mBase\u001b[39m \u001b[90m./\u001b[39m\u001b[90m\u001b[4mBase.jl:307\u001b[24m\u001b[39m",
      " [6] top-level scope",
      "\u001b[90m   @\u001b[39m \u001b[90m\u001b[4mIn[1]:1\u001b[24m\u001b[39m",
      " [7] \u001b[0m\u001b[1meval\u001b[22m\u001b[0m\u001b[1m(\u001b[22m\u001b[90mm\u001b[39m::\u001b[0mModule, \u001b[90me\u001b[39m::\u001b[0mAny\u001b[0m\u001b[1m)\u001b[22m",
      "\u001b[90m   @\u001b[39m \u001b[90mCore\u001b[39m \u001b[90m./\u001b[39m\u001b[90m\u001b[4mboot.jl:489\u001b[24m\u001b[39m"
     ]
    }
   ],
   "source": [
    "include(joinpath(@__DIR__, \"Include-student.jl\")); # include the Include.jl file"
   ]
  },
  {
   "cell_type": "markdown",
   "id": "c0a602ad",
   "metadata": {},
   "source": [
    "In addition to standard Julia libraries, we'll also use [the `VLDataScienceMachineLearningPackage.jl` package](https://github.com/varnerlab/VLDataScienceMachineLearningPackage.jl). Check out [the documentation](https://varnerlab.github.io/VLDataScienceMachineLearningPackage.jl/dev/) for more information on the functions, types, and data used in this material."
   ]
  },
  {
   "cell_type": "markdown",
   "id": "83bd98dc",
   "metadata": {},
   "source": [
    "### Data\n",
    "We gathered a daily open-high-low-close `dataset` for each firm in the [S&P 500](https://en.wikipedia.org/wiki/S%26P_500) from `01-03-2014` until `12-31-2024`, along with data for a few exchange-traded funds and volatility products during that time. \n",
    "\n",
    "Let's load the `original_dataset::DataFrame` by calling [the `MyTrainingMarketDataSet()` function](https://varnerlab.github.io/VLDataScienceMachineLearningPackage.jl/dev/data/#VLDataScienceMachineLearningPackage.MyTrainingMarketDataSet) and remove firms that do not have the maximum number of trading days. The cleaned dataset $\\mathcal{D}$ will be stored in the `dataset` variable."
   ]
  },
  {
   "cell_type": "code",
   "execution_count": null,
   "id": "03a7d73a",
   "metadata": {},
   "outputs": [],
   "source": [
    "original_dataset = MyTrainingMarketDataSet() |> x-> x[\"dataset\"];"
   ]
  },
  {
   "cell_type": "markdown",
   "id": "abe5e485",
   "metadata": {},
   "source": [
    "Not all tickers in our dataset have the maximum number of trading days for various reasons, e.g., acquisition or de-listing events. Let's collect only those tickers with the maximum number of trading days.\n",
    "\n",
    "First, let's compute the number of records for a firm that we know has a maximum value, e.g., `AAPL`, and save that value in the `maximum_number_trading_days::Int64` variable:"
   ]
  },
  {
   "cell_type": "code",
   "execution_count": null,
   "id": "c5b5b089",
   "metadata": {},
   "outputs": [],
   "source": [
    "maximum_number_trading_days = original_dataset[\"AAPL\"] |> nrow # nrow? (check out: DataFrames.jl)"
   ]
  },
  {
   "cell_type": "markdown",
   "id": "7a07bef3",
   "metadata": {},
   "source": [
    "Now, let's iterate through our data and collect only tickers with `maximum_number_trading_days` records. Save that data in the `dataset::Dict{String,DataFrame}` variable:"
   ]
  },
  {
   "cell_type": "code",
   "execution_count": null,
   "id": "0bfcd00c",
   "metadata": {},
   "outputs": [],
   "source": [
    "dataset = let\n",
    "\n",
    "    # initialize -\n",
    "    dataset = Dict{String, DataFrame}();\n",
    "\n",
    "    # iterate through the dictionary; we can't guarantee a particular order\n",
    "    for (ticker, data) ∈ original_dataset  # we get each (K, V) pair!\n",
    "        if (nrow(data) == maximum_number_trading_days) # what is this doing?\n",
    "            dataset[ticker] = data;\n",
    "        end\n",
    "    end\n",
    "    dataset; # return\n",
    "end;"
   ]
  },
  {
   "cell_type": "markdown",
   "id": "bd8b7dc0",
   "metadata": {},
   "source": [
    "Finally, let's get a list of the firms in our cleaned-up dataset (and sort them alphabetically). We store the sorted firm ticker symbols in the `list_of_tickers::Array{String,1}` variable."
   ]
  },
  {
   "cell_type": "code",
   "execution_count": null,
   "id": "5ca4fe1c",
   "metadata": {},
   "outputs": [],
   "source": [
    "list_of_tickers = keys(dataset) |> collect |> sort; # list of firm \"ticker\" symbols in alphabetical order"
   ]
  },
  {
   "cell_type": "markdown",
   "id": "81bb2a27",
   "metadata": {},
   "source": [
    "### Constants\n",
    "Let's define a few constants that we will use throughout this notebook:"
   ]
  },
  {
   "cell_type": "code",
   "execution_count": null,
   "id": "b55800aa",
   "metadata": {},
   "outputs": [],
   "source": [
    "desired_target_return = 0.15; # desired target return for the portfolio"
   ]
  },
  {
   "cell_type": "markdown",
   "id": "055db770",
   "metadata": {},
   "source": [
    "___"
   ]
  },
  {
   "cell_type": "markdown",
   "id": "59b669a7",
   "metadata": {},
   "source": [
    "## Task 1: Compute the growth rate matrix\n",
    "In this task, we compute the growth rate array which contains, for each day and each firm in our dataset, the value of the growth rate between time $j$ and $j-1$. \n",
    "\n",
    ">  __Continuously Compounded Growth Rate (CCGR)__\n",
    ">\n",
    "> Let's assume a model of the share price of firm $i$ is governed by an expression of the form:\n",
    ">$$\n",
    "\\begin{align*}\n",
    "S^{(i)}_{j} &= S^{(i)}_{j-1}\\;\\exp\\left(g^{(i)}_{j,j-1}\\Delta{t}_{j}\\right)\n",
    "\\end{align*}\n",
    "> $$\n",
    "> where $S^{(i)}_{j-1}$ denotes the share price of firm $i$ at time index $j-1$, $S^{(i)}_{j}$ denotes the share price of firm $i$ at time index $j$, and $\\Delta{t}_{j} = t_{j} - t_{j-1}$ denotes the length of a time step (units: years) between time index $j-1$ and $j$. The value we are going to estimate is the growth rate $g^{(i)}_{j,j-1}$ (units: inverse years) for each firm $i$ and each time step in the dataset.\n",
    "\n",
    "We've implemented [the `log_growth_matrix(...)` function](https://varnerlab.github.io/VLDataScienceMachineLearningPackage.jl/dev/data/#VLDataScienceMachineLearningPackage.log_growth_matrix) which takes the cleaned-up dataset and a list of ticker symbols, and returns the growth rate array. Each row of the growth rate array is a time step, while each column corresponds to a firm from the `list_of_tickers::Array{String,1}` array."
   ]
  },
  {
   "cell_type": "code",
   "execution_count": null,
   "id": "d3030691",
   "metadata": {},
   "outputs": [],
   "source": [
    "growth_rate_array = let\n",
    "\n",
    "    # initialize -\n",
    "    Δt = (1/252); # time-step one-day in units of years (trading year is 252 days)\n",
    "    r̄ = 0.0; # assume the risk-free rate is 0\n",
    "\n",
    "    # compute the growth matrix -\n",
    "    growth_rate_array = log_growth_matrix(dataset, list_of_tickers, Δt = Δt, \n",
    "        risk_free_rate = r̄); # other optional parameters are at their defaults\n",
    "\n",
    "    growth_rate_array; # return\n",
    "end"
   ]
  },
  {
   "cell_type": "markdown",
   "id": "bf00e481",
   "metadata": {},
   "source": [
    "> **Growth Rate Matrix Structure**\n",
    ">\n",
    "> The `growth_rate_array` is a matrix $\\mathbf{G} \\in \\mathbb{R}^{m \\times n}$ where each **row** represents a trading day (time step) in our dataset, each **column** represents a firm from the S&P 500, and each **element** $G_{i,j}$ contains the continuously compounded growth rate for firm $j$ on day $i$.\n",
    "\n",
    "The matrix has 424 firms (columns) and $T-1$ = 2,766 trading days (rows), capturing the daily growth rate dynamics of the S&P 500 components from 2014 to 2024. \n",
    "\n",
    "Let's approximate the expected growth rate vector $\\mathbb{E}[\\mathbf{g}]$ and the covariance matrix $\\mathbf{\\Sigma}_{g}$ using the `growth_rate_array`.\n",
    "\n",
    "The expected growth rate vector $\\mathbb{E}[\\mathbf{g}]$ can be approximated by computing the mean of each column in the `growth_rate_array`. Let's save the expected growth rate vector in the `ḡ::Array{Float64,1}` variable:"
   ]
  },
  {
   "cell_type": "code",
   "execution_count": null,
   "id": "ef9ba667",
   "metadata": {},
   "outputs": [],
   "source": [
    "ḡ = mean(growth_rate_array, dims = 1) |> vec # expected growth rate vector (units: inverse years)"
   ]
  },
  {
   "cell_type": "markdown",
   "id": "192391de",
   "metadata": {},
   "source": [
    "The covariance matrix $\\mathbf{\\Sigma}_{g}$ can be approximated by computing the sample covariance of the `growth_rate_array` using [the `cov(...)` function](https://docs.julialang.org/en/v1/stdlib/Statistics/#Statistics.cov). We scale the covariance matrix by $\\Delta t$ to convert from daily to annualized units. \n",
    "\n",
    "Let's save the covariance matrix in the `Σ̂::Array{Float64,2}` variable:"
   ]
  },
  {
   "cell_type": "code",
   "execution_count": null,
   "id": "b17facfe",
   "metadata": {},
   "outputs": [],
   "source": [
    "Σ̂ = let\n",
    "    Δt = (1/252); # time-step one-day in units of years (trading year is 252 days)\n",
    "    R = growth_rate_array; # shorthand\n",
    "    Σ = cov(R, dims=1)*(Δt); # covariance matrix (units: dimensionless)\n",
    "end"
   ]
  },
  {
   "cell_type": "markdown",
   "id": "ef11a368",
   "metadata": {},
   "source": [
    "___"
   ]
  },
  {
   "cell_type": "markdown",
   "id": "8d95656c",
   "metadata": {},
   "source": [
    "## Task 2: Solve the optimal allocation problem using Simulated Annealing\n",
    "In this task, we will implement the Simulated Annealing algorithm to solve the minimum variance portfolio allocation problem formulated above. \n",
    "\n",
    "> __In practice:__ While the portfolio optimization problem can be solved efficiently using quadratic programming, simulated annealing offers a flexible alternative that can handle non-convex objectives and additional constraints without requiring derivatives. This is an example of a constrained optimization problem, which we can solve using Simulated Annealing by incorporating the constraints into the objective function using penalty terms.\n",
    "\n",
    "In the general case, we can write the (augmented) objective function $P_{\\mu,\\rho}(x)$:\n",
    "$$\n",
    "\\begin{align*}\n",
    "    \\min_{x\\in\\mathbb{R}^n}\\;P_{\\mu,\\rho}(x)\\;&=f(x)\\;-\\;\\frac{1}{\\mu}\\sum_{i=1}^m\\ln\\bigl(-\\,g_i(x)\\bigr)\\;+\\;\\frac{1}{2\\rho}\\sum_{j=1}^p \n",
    "    \\bigl[h_j(x)\\bigr]^2,\\quad\\text{where}\\quad\\mu>0,\\;\\rho>0\\\\\n",
    "\\end{align*}\n",
    "$$\n",
    "where $f(x)$ is the objective function, $g_i(x)$ are the inequality constraints, and $h_j(x)$ are the equality constraints. For our allocation problem, we have both equality and inequality constraints. The equality constraints are $\\mathbf{w}^\\top \\mathbb{E}(\\mathbf{g}) = R^{*}$ and $\\sum_{i\\in\\mathcal{P}}w_{i} = 1$, while the inequality constraints are $w_{i} \\geq 0~\\forall{i}\\in\\mathcal{P}$. \n",
    "\n",
    "Putting this all together, we can write the augmented objective function for our allocation problem as:\n",
    "$$\n",
    "\\boxed{\n",
    "\\begin{align*}\n",
    "    \\min_{\\mathbf{w}\\in\\mathbb{R}^M}\\;P_{\\mu,\\rho}(\\mathbf{w})\\;&=\\;\\mathbf{w}^{\\top}\\mathbf{\\Sigma}_{g}\\mathbf{w}\\;-\\;\\frac{1}{\\mu}\\sum_{i=1}^M\\ln\\bigl(w_i\\bigr)\\;+\\;\\frac{1}{2\\rho}\\Bigr[\\bigl(\\mathbf{w}^\\top ḡ - R^{*}\\bigr)^2\\;+\\;\\bigl(1-\\sum_{i=1}^M w_i\\bigr)^2\\Bigl]\\quad\\blacksquare\\\\\n",
    "\\end{align*}}\n",
    "$$\n",
    "where $\\mu>0$ and $\\rho>0$ are penalty parameters that control the strength of the penalty terms. In our case, we will _decrease_ the value of $\\mu$ and $\\rho$ as the algorithm progresses, which will increase the strength of the penalty terms (as $\\frac{1}{\\mu}$ and $\\frac{1}{\\rho}$ grow larger) and force the solution to satisfy the constraints more closely."
   ]
  },
  {
   "cell_type": "markdown",
   "id": "43184d8b",
   "metadata": {},
   "source": [
    "### Implementation\n",
    "Let's select a subset of firms from the S&P 500 to construct our portfolio. We'll choose a subset of firms and store their ticker symbols in the `my_list_of_tickers::Array{String,1}` array:"
   ]
  },
  {
   "cell_type": "code",
   "execution_count": null,
   "id": "4f68db79",
   "metadata": {},
   "outputs": [],
   "source": [
    "my_list_of_tickers = [\"AAPL\", \"MSFT\", \"INTC\", \"MU\", \"AMD\", \"GS\", \"BAC\", \"WFC\", \"C\", \"F\", \"GM\", \n",
    "    \"JNJ\", \"PG\", \"UPS\", \"COST\", \"TGT\", \"WMT\", \"MRK\", \"PFE\", \"ADBE\"]; # tickers selected for portfolio"
   ]
  },
  {
   "cell_type": "markdown",
   "id": "af5d1a52",
   "metadata": {},
   "source": [
    "Now that we have selected the firms in our risky portfolio, we'll compute the firm-specific expected return vector and covariance matrix. We'll store these in the $\\bar{g}_{p}$ and $\\hat{\\Sigma}_{p}$ variables. "
   ]
  },
  {
   "cell_type": "code",
   "execution_count": null,
   "id": "260a7b00",
   "metadata": {},
   "outputs": [],
   "source": [
    "ḡₚ, Σ̂ₚ = let\n",
    "\n",
    "    # initialize -\n",
    "    M = length(my_list_of_tickers); # number of assets in portfolio\n",
    "    ḡₚ = Array{Float64,1}(); # drift vector\n",
    "    Σ̂ₚ = Array{Float64,2}(undef, M, M); # covariance matrix for *our* portfolio\n",
    "\n",
    "    # compute drift vector -\n",
    "    for ticker ∈ my_list_of_tickers\n",
    "        i = findfirst(x-> x == ticker, list_of_tickers); # find index of ticker in list_of_tickers\n",
    "        push!(ḡₚ, ḡ[i]); # append drift value to ḡₚ\n",
    "    end\n",
    "\n",
    "    # compute covariance matrix -\n",
    "    for i ∈ 1:M\n",
    "        for j ∈ 1:M\n",
    "            row_index = findfirst(x-> x == my_list_of_tickers[i], list_of_tickers); # find row index in full covariance matrix\n",
    "            col_index = findfirst(x-> x == my_list_of_tickers[j], list_of_tickers); # find column index in full covariance matrix\n",
    "            Σ̂ₚ[i,j] = Σ̂[row_index, col_index]; # assign value to Σ̂ₚ\n",
    "        end\n",
    "    end\n",
    "\n",
    "    (ḡₚ, Σ̂ₚ); # return\n",
    "end;"
   ]
  },
  {
   "cell_type": "markdown",
   "id": "01314945",
   "metadata": {},
   "source": [
    "Now let's build the simulated annealing model instance using [the `build(...)` method](src/Factory.jl). We [initialize a `model::MySimulatedAnnealingMinimumVariancePortfolioAllocationProblem` instance](src/Types.jl) with initial weights `w`, the portfolio-specific expected return vector `ḡₚ`, covariance matrix `Σ̂ₚ`, and target return `R = 0.15` (15% annualized return):"
   ]
  },
  {
   "cell_type": "code",
   "execution_count": null,
   "id": "bfbde841",
   "metadata": {},
   "outputs": [],
   "source": [
    "model = build(MySimulatedAnnealingMinimumVariancePortfolioAllocationProblem, (\n",
    "    w = 0.01*ones(length(my_list_of_tickers)),\n",
    "    ḡ = ḡₚ,\n",
    "    Σ̂ = Σ̂ₚ,\n",
    "    R = desired_target_return, # desired return\n",
    "));"
   ]
  },
  {
   "cell_type": "markdown",
   "id": "08e3a4be",
   "metadata": {},
   "source": [
    "Now let's solve the minimum variance portfolio allocation problem using the simulated annealing algorithm. \n",
    "\n",
    "We [call the `solve(...)` method](src/Compute.jl) with the model instance and algorithm parameters including temperature schedule, cooling rate, and penalty parameters. \n",
    "\n",
    "The method returns an updated model with optimized weights, which we extract and store in the `ŵ::Array{Float64,1}` variable:"
   ]
  },
  {
   "cell_type": "code",
   "execution_count": null,
   "id": "f8aa87ad",
   "metadata": {},
   "outputs": [],
   "source": [
    "ŵ = let\n",
    "    \n",
    "    # initialize -\n",
    "    K = 200*length(my_list_of_tickers);\n",
    "    Tₒ = 1.0 # initial T\n",
    "\n",
    "    # TODO: Tune these parameters as needed (must pass the two assert statements below)\n",
    "    T₁ = 0.1; # final T \n",
    "    α = 0.10; # cooling rate\n",
    "    β = 0.01; # parameter perturbation\n",
    "    τ = 0.90; # rate of decrease of the penalty/barrier parameters\n",
    "    μ = 0.5; # penalty/barrier parameter for non-negativity\n",
    "    ρ = 0.1; # penalty/barrier parameter for return and sum-to-one constraints\n",
    "\n",
    "    # TODO: Implement the simulated annealing algorithm to solve the minimum variance portfolio allocation problem\n",
    "    # TODO: SA implementation goes the src/Compute.jl file in the \"solve\" function\n",
    "    # TODO: Once SA has been implemented, uncomment the following lines will call the solver\n",
    "    # updated_model = solve(model, K = K, T₀ = Tₒ, T₁ = T₁,\n",
    "    #     α = α, β = β, τ = τ, μ = μ, ρ = ρ);    \n",
    "\n",
    "    updated_model.w; # return the updated weights\n",
    "end;"
   ]
  },
  {
   "cell_type": "markdown",
   "id": "2e24735d",
   "metadata": {},
   "source": [
    "Let's check the constraints. The sum of the weights should be 1, and the expected return should be close to the target return.\n",
    "\n",
    "__Check sum constraint:__ We'll use the [`isapprox(...)` function](https://docs.julialang.org/en/v1/base/math/#Base.isapprox) to check if the sum of the weights is approximately equal to 1.0, within an absolute tolerance of `atol` = 1e-2."
   ]
  },
  {
   "cell_type": "code",
   "execution_count": null,
   "id": "3fbbe7d4",
   "metadata": {},
   "outputs": [],
   "source": [
    "@assert isapprox(sum(ŵ), 1.0, atol=1e-2)"
   ]
  },
  {
   "cell_type": "markdown",
   "id": "8154cfd4",
   "metadata": {},
   "source": [
    "__Check expected return constraint:__ We'll use the [`isapprox(...)` function](https://docs.julialang.org/en/v1/base/math/#Base.isapprox) to check if the expected return of the portfolio is __at least equal__ (approximately) to the target return `R`, within an absolute tolerance of `atol` = 1e-2.\n",
    "\n",
    "> __What do we do if the constraints are not satisfied?__ \n",
    ">\n",
    "> If the return or sum constraints are not satisfied, we can adjust the penalty parameters `μ` and `ρ` to increase the strength of the penalty terms in the objective function. This will encourage the algorithm to find a solution that satisfies the constraints more closely. We can also consider increasing the number of iterations or adjusting the cooling schedule to allow the algorithm more time to explore the solution space.\n",
    ">\n",
    "> __Required:__ Play with the hyperparameters until you pass these checks.\n",
    "\n",
    "So what happened?"
   ]
  },
  {
   "cell_type": "code",
   "execution_count": null,
   "id": "9109155f",
   "metadata": {},
   "outputs": [],
   "source": [
    "r = transpose(ŵ)*ḡₚ;\n",
    "println(\"Portfolio expected return: \", r)\n",
    "@assert isapprox(transpose(ŵ)*ḡₚ, desired_target_return, atol=1e-2)"
   ]
  },
  {
   "cell_type": "markdown",
   "id": "fc3f87a4",
   "metadata": {},
   "source": [
    "What is the portfolio risk using the weights computed using Simulated Annealing?"
   ]
  },
  {
   "cell_type": "code",
   "execution_count": null,
   "id": "2faff7af",
   "metadata": {},
   "outputs": [],
   "source": [
    "let\n",
    "    risk = transpose(ŵ)*Σ̂ₚ*ŵ # portfolio variance\n",
    "    println(\"Risk using Simulated Annealing: $(risk |> x-> round(x, digits=4))\");\n",
    "end"
   ]
  },
  {
   "cell_type": "markdown",
   "id": "988f6400",
   "metadata": {},
   "source": [
    "## Task 3: Let's check our results using another method\n",
    "Traditionally, the minimum variance portfolio allocation problem is solved using quadratic programming techniques. Let's compare our results from the Simulated Annealing algorithm to those obtained using [the `MadNLP.jl` package](https://github.com/MadNLP/MadNLP.jl)."
   ]
  },
  {
   "cell_type": "code",
   "execution_count": null,
   "id": "8b262378",
   "metadata": {},
   "outputs": [],
   "source": [
    "true_model = let\n",
    "\n",
    "    # initialize -\n",
    "    number_of_firms = length(my_list_of_tickers); # how many firms do we have\n",
    "    wₒ = zeros(number_of_firms) # initial allocation (zeros)\n",
    "    wₒ[1] = 1.0; # all money in firm 1\n",
    "    bounds = zeros(number_of_firms,2); \n",
    "    bounds[:,2] .= 1.0;\n",
    "\n",
    "    # build the true model -\n",
    "    true_model = build(MyMarkowitzRiskyAssetOnlyPortfolioChoiceProblem, (\n",
    "        μ = ḡₚ,\n",
    "        Σ = Σ̂ₚ,\n",
    "        initial = wₒ,\n",
    "        bounds = bounds,\n",
    "        R = desired_target_return,\n",
    "    ));\n",
    "    \n",
    "    true_model; # return\n",
    "end;"
   ]
  },
  {
   "cell_type": "markdown",
   "id": "2eb4df77",
   "metadata": {},
   "source": [
    " We pass the updated `true_model` object to the [solve(...) method](https://varnerlab.github.io/VLQuantitativeFinancePackage.jl/dev/portfolio/#VLQuantitativeFinancePackage.solve-Tuple{MyMarkowitzRiskyAssetOnlyPortfolioChoiceProblem}) (which initializes and solves the optimization problem). The solution returned from the [solve(...) method](https://varnerlab.github.io/VLQuantitativeFinancePackage.jl/dev/portfolio/#VLQuantitativeFinancePackage.solve-Tuple{MyMarkowitzRiskyAssetOnlyPortfolioChoiceProblem}) is stored in the `solution` dictionary. \n",
    "\n",
    "> __Status__: We check the `status` of the solution. If the `status` indicates an optimal solution was found, we store that solution in the `efficient_frontier` dictionary. In particular, we store the portfolio risk as the `key` and the expected return, risk, and allocation as the `value` in the `efficient_frontier` dictionary.\n",
    "\n",
    "Why the [try-catch environment](https://docs.julialang.org/en/v1/base/base/#try)? The [solve(...) method](https://varnerlab.github.io/VLQuantitativeFinancePackage.jl/dev/portfolio/#VLQuantitativeFinancePackage.solve-Tuple{MyMarkowitzRiskyAssetOnlyPortfolioChoiceProblem}) has an [@assert statement](https://docs.julialang.org/en/v1/base/base/#Base.@assert) to check if the calculation has converged. Thus, the solve method can [throw](https://docs.julialang.org/en/v1/base/base/#Core.throw) an [AssertionError](https://docs.julialang.org/en/v1/base/base/#Core.AssertionError) if the optimization problem fails to converge. To gracefully handle this case, we use a [try-catch construct](https://docs.julialang.org/en/v1/base/base/#try). See the [is_solved_and_feasible method from the JuMP package](https://jump.dev/JuMP.jl/stable/api/JuMP/#JuMP.is_solved_and_feasible) for more information.\n",
    "\n",
    "Let's save the risk, reward, and allocation from the `MadNLP.jl` solution in the `risk_madnlp::Float64`, `reward_madnlp::Float64`, and `allocation_madnlp::Array{Float64,1}` variables, respectively."
   ]
  },
  {
   "cell_type": "code",
   "execution_count": null,
   "id": "c5c4ebf6",
   "metadata": {},
   "outputs": [],
   "source": [
    "(risk_madnlp, reward_madnlp, allocation_madnlp) = let\n",
    "\n",
    "    # initialize -\n",
    "    risk_value = nothing;\n",
    "    reward_value = nothing;\n",
    "    allocation = nothing;\n",
    "\n",
    "    try\n",
    "        solution = solve(true_model); # solve the problem\n",
    "        status_flag = solution[\"status\"];    \n",
    "\n",
    "        if (status_flag == MathOptInterface.LOCALLY_SOLVED)\n",
    "            risk_value = solution[\"objective_value\"]; # get the sqrt of the risk -\n",
    "            reward_value = solution[\"reward\"];\n",
    "            allocation = solution[\"argmax\"]; # TODO: need to update this key        \n",
    "        end\n",
    "    catch err\n",
    "        # Uncomment to see which R's failed ...\n",
    "        println(\"Failed: desired R = $(true_model.R). Infeasible\");\n",
    "    end    \n",
    "\n",
    "    (risk_value, reward_value, allocation); # return\n",
    "end;"
   ]
  },
  {
   "cell_type": "markdown",
   "id": "ba5be0c9",
   "metadata": {},
   "source": [
    "What is the risk for the portfolio using the weights computed using [the `MadNLP.jl` package](https://github.com/MadNLP/MadNLP.jl)?"
   ]
  },
  {
   "cell_type": "code",
   "execution_count": null,
   "id": "23a8fbb8",
   "metadata": {},
   "outputs": [],
   "source": [
    "println(\"Risk using MadNLP: $(risk_madnlp |> x-> round(x, digits=4))\");"
   ]
  },
  {
   "cell_type": "markdown",
   "id": "0c7221b0",
   "metadata": {},
   "source": [
    "__What's in each portfolio?__ Let's make a table using [the `pretty_table(...)` method exported from the `PrettyTables.jl` package](https://github.com/ronisbr/PrettyTables.jl) and compare the allocations from both methods."
   ]
  },
  {
   "cell_type": "code",
   "execution_count": null,
   "id": "e02c34b0",
   "metadata": {},
   "outputs": [],
   "source": [
    "let\n",
    "\n",
    "    # initialize -\n",
    "    df = DataFrame();\n",
    "\n",
    "    for i ∈ eachindex(my_list_of_tickers)\n",
    "        ticker = my_list_of_tickers[i];\n",
    "        madnlp_alloc = allocation_madnlp[i] |> x-> round(x, digits=4);\n",
    "        sa_alloc = ŵ[i] |> x-> round(x, digits=4);\n",
    "        push!(df, (Ticker = ticker, MadNLP = madnlp_alloc, SimulatedAnnealing = sa_alloc));\n",
    "    end\n",
    "\n",
    "    # add a total row -\n",
    "    total_madnlp = sum(allocation_madnlp);\n",
    "    total_sa = sum(ŵ);\n",
    "    push!(df, (Ticker = \"Total\", MadNLP = total_madnlp, SimulatedAnnealing = total_sa));\n",
    "\n",
    "    # make a table -\n",
    "    pretty_table(df, backend = :text, fit_table_in_display_vertically = false,\n",
    "         table_format = TextTableFormat(borders = text_table_borders__compact));  \n",
    "\n",
    "end"
   ]
  },
  {
   "cell_type": "markdown",
   "id": "e506bdc9",
   "metadata": {},
   "source": [
    "### Hmm. Interesting. Let's play around with our SA implementation\n",
    "When we compare the allocations from both methods, both methods produce allocation vectors that sum (approximately) to 1 and have somewhat similar (not identical) risk and return characteristics. However, the individual weights are different!\n",
    "\n",
    "This is not surprising, as the Simulated Annealing algorithm is a heuristic method that does not guarantee finding the global optimum. Where are the differences?\n",
    "\n",
    "__Differences to consider:__\n",
    "* __Small allocations:__ One obvious difference is that the simulated annealing method with the non-negativity barrier terms avoids allocating small fractions to any asset, while [the `MadNLP.jl` solution](https://github.com/MadNLP/MadNLP.jl) has no problem doing so. This is because the barrier term in the objective function penalizes small weights heavily, pushing them away from zero. \n",
    "* __Hmm:__ Could we get rid of the barrier term in the objective function and just use a penalty term for the non-negativity constraint? Suppose when we generate a new candidate solution, we set any negative weights to zero: $w^{\\prime}_i \\gets \\max(0, w^{\\prime}_i)$, where $w^{\\prime} \\gets w_{c} + \\beta\\cdot\\texttt{randn}(\\texttt{size}(w_{c}))$ and $w_{c}$ is the current solution. If we did this, we would enforce the non-negativity constraint directly, rather than through a barrier term in the objective function, and our objective function would be:\n",
    "$$\n",
    "\\boxed{\n",
    "\\begin{align*}\n",
    "    \\min_{\\mathbf{w}\\in\\mathbb{R}^M}\\;P_{\\mu,\\rho}(\\mathbf{w})\\;&=\\;\\mathbf{w}^{\\top}\\mathbf{\\Sigma}_{g}\\mathbf{w}\\;+\\;\\frac{1}{2\\rho}\\Bigr[\\bigl(\\mathbf{w}^\\top ḡ - R^{*}\\bigr)^2\\;+\\;\\bigl(1-\\sum_{i=1}^M w_i\\bigr)^2\\Bigl]\\quad\\blacksquare\\\\\n",
    "\\end{align*}}\n",
    "$$\n",
    "\n",
    "Thus, we could get rid of the barrier term in the objective function. Implement these changes and describe what happens to the results (assume the same hyperparameters as before)."
   ]
  },
  {
   "cell_type": "code",
   "execution_count": null,
   "id": "0b2359f8",
   "metadata": {},
   "outputs": [],
   "source": [
    "# Put the analysis of your results here."
   ]
  },
  {
   "cell_type": "code",
   "execution_count": null,
   "id": "d2d78148",
   "metadata": {},
   "outputs": [],
   "source": [
    "did_I_answer_the_discussion_question_1 = nothing; # Required: set to {true | false} if you have (or have not) answered the discussion question 1 above."
   ]
  },
  {
   "cell_type": "markdown",
   "id": "f3114c1c",
   "metadata": {},
   "source": [
    "## Tests\n",
    "The code block below shows how we implemented the tests and what we are testing. In these tests, we check values in your notebook and give feedback on which items are correct, missing, etc."
   ]
  },
  {
   "cell_type": "code",
   "execution_count": null,
   "id": "27c5eb3d",
   "metadata": {},
   "outputs": [],
   "source": [
    "@testset verbose = true \"CHEME 5800 PS4 Test Suite\" begin\n",
    "\n",
    "    @testset \"Task 1: Compute the growth rate matrix\" begin\n",
    "        @testset \"Growth rate array computation\" begin\n",
    "            @test isdefined(Main, :growth_rate_array) == true\n",
    "            @test size(growth_rate_array, 1) > 0  # Has rows (trading days)\n",
    "            @test size(growth_rate_array, 2) == length(list_of_tickers)  # Columns match number of tickers\n",
    "        end\n",
    "\n",
    "        @testset \"Expected growth rate vector\" begin\n",
    "            @test isdefined(Main, :ḡ) == true\n",
    "            @test length(ḡ) == length(list_of_tickers)\n",
    "            @test all(isfinite.(ḡ))  # All values are finite\n",
    "        end\n",
    "\n",
    "        @testset \"Covariance matrix\" begin\n",
    "            @test isdefined(Main, :Σ̂) == true\n",
    "            @test size(Σ̂) == (length(list_of_tickers), length(list_of_tickers))\n",
    "            @test all(isfinite.(Σ̂))  # All values are finite\n",
    "            @test issymmetric(Σ̂)  # Covariance matrix should be symmetric\n",
    "        end\n",
    "    end\n",
    "\n",
    "    @testset \"Task 2: Solve the optimal allocation problem using Simulated Annealing\" begin\n",
    "        @testset \"Portfolio ticker selection\" begin\n",
    "            @test isdefined(Main, :my_list_of_tickers) == true\n",
    "            @test length(my_list_of_tickers) > 0\n",
    "            @test all(ticker -> ticker in list_of_tickers, my_list_of_tickers)\n",
    "        end\n",
    "\n",
    "        @testset \"Portfolio parameters computation\" begin\n",
    "            @test isdefined(Main, :ḡₚ) == true\n",
    "            @test isdefined(Main, :Σ̂ₚ) == true\n",
    "            @test length(ḡₚ) == length(my_list_of_tickers)\n",
    "            @test size(Σ̂ₚ) == (length(my_list_of_tickers), length(my_list_of_tickers))\n",
    "            @test all(isfinite.(ḡₚ))\n",
    "            @test all(isfinite.(Σ̂ₚ))\n",
    "        end\n",
    "\n",
    "        @testset \"Simulated annealing model\" begin\n",
    "            @test isdefined(Main, :model) == true\n",
    "            @test typeof(model) == MySimulatedAnnealingMinimumVariancePortfolioAllocationProblem\n",
    "            @test length(model.w) == length(my_list_of_tickers)\n",
    "            @test model.R == desired_target_return\n",
    "        end\n",
    "\n",
    "        @testset \"Optimization results\" begin\n",
    "            @test isdefined(Main, :ŵ) == true\n",
    "            @test length(ŵ) == length(my_list_of_tickers)\n",
    "            @test all(w -> w >= 0, ŵ)  # Non-negativity constraint\n",
    "            @test isapprox(sum(ŵ), 1.0, atol=1e-2)  # Sum-to-one constraint\n",
    "            @test isapprox(transpose(ŵ)*ḡₚ, model.R, atol=1e-2)  # Target return constraint\n",
    "        end\n",
    "\n",
    "        @testset \"Portfolio risk calculation\" begin\n",
    "            risk_sa = transpose(ŵ)*Σ̂ₚ*ŵ\n",
    "            @test isfinite(risk_sa)\n",
    "            @test risk_sa > 0  # Risk should be positive\n",
    "        end\n",
    "    end\n",
    "\n",
    "    @testset \"Task 3: Check results using another method\" begin\n",
    "        @testset \"MadNLP model construction\" begin\n",
    "            @test isdefined(Main, :true_model) == true\n",
    "            @test typeof(true_model) == MyMarkowitzRiskyAssetOnlyPortfolioChoiceProblem\n",
    "            @test true_model.R == desired_target_return\n",
    "        end\n",
    "\n",
    "        @testset \"MadNLP solution\" begin\n",
    "            @test isdefined(Main, :risk_madnlp) == true\n",
    "            @test isdefined(Main, :reward_madnlp) == true\n",
    "            @test isdefined(Main, :allocation_madnlp) == true\n",
    "            \n",
    "            # Check if solution was obtained (not nothing)\n",
    "            @test risk_madnlp !== nothing\n",
    "            @test reward_madnlp !== nothing\n",
    "            @test allocation_madnlp !== nothing\n",
    "            \n",
    "            # If solution exists, check properties\n",
    "            if risk_madnlp !== nothing\n",
    "                @test isfinite(risk_madnlp)\n",
    "                @test risk_madnlp > 0\n",
    "                @test isapprox(reward_madnlp, desired_target_return, atol=1e-2)\n",
    "                @test length(allocation_madnlp) == length(my_list_of_tickers)\n",
    "                @test all(w -> w >= 0, allocation_madnlp)\n",
    "                @test isapprox(sum(allocation_madnlp), 1.0, atol=1e-4)\n",
    "            end\n",
    "        end\n",
    "\n",
    "        @testset \"Comparative analysis\" begin\n",
    "            # Check that both methods produced valid allocations\n",
    "            @test length(allocation_madnlp) == length(ŵ)\n",
    "            \n",
    "            # Both should satisfy basic constraints\n",
    "            @test isapprox(sum(ŵ), 1.0, atol=1e-2)\n",
    "            if allocation_madnlp !== nothing\n",
    "                @test isapprox(sum(allocation_madnlp), 1.0, atol=1e-4)\n",
    "            end\n",
    "            @test did_I_answer_the_discussion_question_1 == true;\n",
    "        end\n",
    "    end\n",
    "end;"
   ]
  },
  {
   "cell_type": "markdown",
   "id": "fc945f97",
   "metadata": {},
   "source": [
    "___"
   ]
  },
  {
   "cell_type": "markdown",
   "id": "2fd1b9d7",
   "metadata": {},
   "source": [
    "## Summary\n",
    "In this activity, we implemented the simulated annealing algorithm to solve the minimum variance portfolio allocation problem, a constrained optimization challenge in quantitative finance. We formulated the problem with penalty and barrier terms to handle constraints, trained the model on historical S&P 500 data, and validated our results against traditional quadratic programming methods.\n",
    "\n",
    "> __Key Takeaways:__\n",
    "> \n",
    "> * **Augmented objective function with constraints:** We incorporated inequality constraints (non-negativity) using logarithmic barrier terms and equality constraints (target return and sum-to-one) using quadratic penalty terms. The penalty parameters $\\mu$ and $\\rho$ decreased during optimization to enforce constraints more strictly.\n",
    "> * **Simulated annealing parameter tuning:** We configured the algorithm with an initial temperature of 1.0, and an adaptive iteration count based on portfolio size. You chose the hyperparameters so that the constraints were satisfied, and the desired return was achieved.\n",
    "> * **Validation through comparative analysis:** We compared simulated annealing results against MadNLP quadratic programming solutions, observing similar portfolio risk and return characteristics but different individual asset allocations. The barrier term approach in simulated annealing naturally avoided small allocations, producing sparser portfolio weights.\n",
    "\n",
    "The simulated annealing algorithm successfully found feasible portfolio allocations satisfying all constraints, demonstrating the effectiveness of heuristic methods for solving constrained optimization problems in financial applications.\n",
    "___"
   ]
  },
  {
   "cell_type": "markdown",
   "id": "bfd4aea9",
   "metadata": {},
   "source": []
  }
 ],
 "metadata": {
  "kernelspec": {
   "display_name": "Julia 1.12.1",
   "language": "julia",
   "name": "julia-1.12"
  },
  "language_info": {
   "file_extension": ".jl",
   "mimetype": "application/julia",
   "name": "julia",
   "version": "1.12.1"
  }
 },
 "nbformat": 4,
 "nbformat_minor": 5
}
